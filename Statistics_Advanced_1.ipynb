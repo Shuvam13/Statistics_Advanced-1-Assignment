{
  "nbformat": 4,
  "nbformat_minor": 0,
  "metadata": {
    "colab": {
      "provenance": []
    },
    "kernelspec": {
      "name": "python3",
      "display_name": "Python 3"
    },
    "language_info": {
      "name": "python"
    }
  },
  "cells": [
    {
      "cell_type": "markdown",
      "source": [
        "#ASSIGNMENT"
      ],
      "metadata": {
        "id": "kvsCJmo8bYDA"
      }
    },
    {
      "cell_type": "markdown",
      "source": [
        "1. What is a random variable in probability theory?\n",
        "   - In probability theory, a random variable is a variable whose possible values are outcomes of a random phenomenon.\n",
        "\n",
        "2. What are the types of random variables?\n",
        "   - There are two main types of random variables:\n",
        "     - Discrete Random Variable: A discrete random variable can only take on a finite number of distinct values or a countably infinite number of values.\n",
        "     - Continuous Random Variable: A continuous random variable can take on any value within a given range or interval. These are typically measurements.\n",
        "\n",
        "3. Explain the difference between discrete and continuous distributions.\n",
        "   - Discrete Distributions: These describe the probabilities of outcomes for discrete random variables. The distribution assigns a probability to each specific, distinct value that the variable can take.\n",
        "   - Continuous Distributions: These describe the probabilities of outcomes for continuous random variables. Since a continuous variable can take on an infinite number of values within a range, the probability of the variable taking on any exact single value is zero.\n",
        "\n",
        "4. What is a binomial distribution, and how is it used in probability?\n",
        "   - A  binomial distribution is a discrete probability distribution that describes the probability of obtaining a specific number of successes in a fixed number of independent Bernoulli trials, where each trial has only two possible outcomes (success or failure) and the probability of success is constant for each trial.\n",
        "   Here's how it's used in probability:\n",
        "   - Modeling Binary Outcomes: It's used to model situations where an experiment is repeated a fixed number of times, and each trial has only two possible outcomes (like success/failure, yes/no, heads/tails).\n",
        "   - Calculating Probabilities: It allows you to calculate the probability of getting exactly k successes in n trials, given the probability of success on a single trial (p).\n",
        "   - Statistical Inference: It forms the basis for statistical inference in situations involving binary data, such as hypothesis testing for proportions.\n",
        "\n",
        "5. What is the standard normal distribution, and why is it important?\n",
        "   - The standard normal distribution is a special case of the normal distribution. It has a mean of 0 and a standard deviation of 1.\n",
        "   Here's why it's important:\n",
        "   - Any normal distribution can be converted into the standard normal distribution by a process called standardization.\n",
        "   - Using the standard normal distribution (and z-tables or statistical software), you can find the probability of a random variable falling within a certain range for any normal distribution.\n",
        "   - It's fundamental to many statistical methods, including hypothesis testing and confidence intervals.\n",
        "\n",
        "6. What is the Central Limit Theorem (CLT), and why is it critical in statistics?\n",
        "   - It states that if you take sufficiently large random samples from any population (regardless of its distribution), the distribution of the sample means will be approximately normally distributed in CLT.\n",
        "   It is critical because of the following reasons:\n",
        "   - The CLT is the bedrock for many statistical inference techniques. Because the distribution of sample means approaches normality, we can use the properties of the normal distribution to make inferences about the population mean based on sample data.\n",
        "   -  It allows us to use normal distribution-based methods (like z-tests and t-tests) even when the original population distribution is unknown or not normal, as long as the sample size is large enough.\n",
        "   - The CLT is crucial for constructing confidence intervals for the population mean and for performing hypothesis tests about the population mean.\n",
        "   - It provides a theoretical basis for understanding the behavior of sampling distributions, which are the distributions of statistics (like the mean) calculated from multiple samples of the same size taken from a population.\n",
        "\n",
        "7. What is the significance of confidence intervals in statistical analysis?\n",
        "   - Unlike a single point estimate (like a sample mean), a confidence interval provides a range, giving you a sense of how precise your estimate is.\n",
        "   - It tells you that, with a certain level of confidence (e.g., 95%), the true population parameter lies within that calculated interval.\n",
        "   - Confidence intervals can aid in decision-making.\n",
        "   - Confidence intervals can be used to compare parameters between different groups.\n",
        "   - They help in interpreting the results of studies and surveys, providing a more complete picture than just a point estimate.\n",
        "\n",
        "8. What is the concept of expected value in a probability distribution?\n",
        "   - The expected value (or expectation) of a random variable is a fundamental concept in probability theory. It represents the average value that a random variable is expected to take over many repetitions of the random phenomenon.\n"
      ],
      "metadata": {
        "id": "PzNomIo_cKCQ"
      }
    },
    {
      "cell_type": "markdown",
      "source": [
        "9. Write a Python program to generate 1000 random numbers from a normal\n",
        "distribution with mean = 50 and standard deviation = 5. Compute its mean and standard\n",
        "deviation using NumPy, and draw a histogram to visualize the distribution."
      ],
      "metadata": {
        "id": "bhMrzbTMgpq4"
      }
    },
    {
      "cell_type": "code",
      "metadata": {
        "colab": {
          "base_uri": "https://localhost:8080/",
          "height": 507
        },
        "id": "469f8e58",
        "outputId": "66a19551-a444-4eef-a8fd-5ad3ce19d216"
      },
      "source": [
        "import numpy as np\n",
        "import matplotlib.pyplot as plt\n",
        "\n",
        "mean = 50\n",
        "std_dev = 5\n",
        "num_samples = 1000\n",
        "random_numbers = np.random.normal(mean, std_dev, num_samples)\n",
        "\n",
        "computed_mean = np.mean(random_numbers)\n",
        "computed_std_dev = np.std(random_numbers)\n",
        "\n",
        "print(f\"Generated Mean: {computed_mean:.2f}\")\n",
        "print(f\"Generated Standard Deviation: {computed_std_dev:.2f}\")\n",
        "\n",
        "plt.hist(random_numbers, bins=30, density=True, alpha=0.6, color='g')\n",
        "plt.title('Histogram of Random Numbers from Normal Distribution')\n",
        "plt.xlabel('Value')\n",
        "plt.ylabel('Frequency')\n",
        "plt.grid(True)\n",
        "plt.show()"
      ],
      "execution_count": 1,
      "outputs": [
        {
          "output_type": "stream",
          "name": "stdout",
          "text": [
            "Generated Mean: 49.98\n",
            "Generated Standard Deviation: 5.10\n"
          ]
        },
        {
          "output_type": "display_data",
          "data": {
            "text/plain": [
              "<Figure size 640x480 with 1 Axes>"
            ],
            "image/png": "[encoded data removed]"
          },
          "metadata": {}
        }
      ]
    },
    {
      "cell_type": "markdown",
      "source": [
        "10. You are working as a data analyst for a retail company. The company has\n",
        "collected daily sales data for 2 years and wants you to identify the overall sales trend.\n",
        "\n",
        "daily_sales = [220, 245, 210, 265, 230, 250, 260, 275, 240, 255, 235, 260, 245, 250, 225, 270, 265, 255, 250, 260]\n",
        "\n",
        "(a)Explain how you would apply the Central Limit Theorem to estimate the average sales with a 95% confidence interval.\n",
        "\n",
        "(b) Write the Python code to compute the mean sales and its confidence interval."
      ],
      "metadata": {
        "id": "IxUg2zPahGBP"
      }
    },
    {
      "cell_type": "code",
      "metadata": {
        "colab": {
          "base_uri": "https://localhost:8080/"
        },
        "id": "27046146",
        "outputId": "1cc3f4f9-3b77-4aba-83ee-36bbb30078bb"
      },
      "source": [
        "#b\n",
        "import numpy as np\n",
        "from scipy import stats\n",
        "\n",
        "daily_sales = [220, 245, 210, 265, 230, 250, 260, 275, 240, 255,\n",
        "               235, 260, 245, 250, 225, 270, 265, 255, 250, 260]\n",
        "\n",
        "daily_sales_np = np.array(daily_sales)\n",
        "\n",
        "mean_sales = np.mean(daily_sales_np)\n",
        "\n",
        "std_dev_sales = np.std(daily_sales_np, ddof=1)\n",
        "\n",
        "n = len(daily_sales_np)\n",
        "\n",
        "confidence_level = 0.95\n",
        "\n",
        "degrees_freedom = n - 1\n",
        "t_score = stats.t.ppf((1 + confidence_level) / 2, degrees_freedom)\n",
        "\n",
        "standard_error = std_dev_sales / np.sqrt(n)\n",
        "\n",
        "margin_of_error = t_score * standard_error\n",
        "\n",
        "confidence_interval = (mean_sales - margin_of_error, mean_sales + margin_of_error)\n",
        "\n",
        "print(f\"Mean Daily Sales: {mean_sales:.2f}\")\n",
        "print(f\"95% Confidence Interval for Mean Sales: ({confidence_interval[0]:.2f}, {confidence_interval[1]:.2f})\")"
      ],
      "execution_count": 4,
      "outputs": [
        {
          "output_type": "stream",
          "name": "stdout",
          "text": [
            "Mean Daily Sales: 248.25\n",
            "95% Confidence Interval for Mean Sales: (240.17, 256.33)\n"
          ]
        }
      ]
    },
    {
      "cell_type": "markdown",
      "metadata": {
        "id": "f631e05c"
      },
      "source": [
        "**(a) Explain how you would apply the Central Limit Theorem to estimate the average sales with a 95% confidence interval.**\n",
        "\n",
        "The Central Limit Theorem (CLT) is crucial for estimating the average sales with a confidence interval, even though we only have one sample of daily sales data. Here's how it applies:\n",
        "\n",
        "1.  **Understanding the Population and Sample:** The population is all possible daily sales the company could have. Our `daily_sales` list is a single sample of 20 observations from this population.\n",
        "\n",
        "2.  **The Central Limit Theorem's Statement:** The CLT states that if we were to take many independent random samples of a sufficient size (generally n > 30 is considered sufficient, but the t-distribution can be used for smaller samples when the population standard deviation is unknown, as is the case here) from *any* population, the distribution of the *sample means* would be approximately normally distributed. This holds true regardless of the shape of the original population distribution.\n",
        "\n",
        "3.  **Applying CLT to Sales Data:** Even with our sample size of 20, the CLT provides the theoretical basis for assuming that the distribution of sample means of daily sales would be approximately normal if we were to take many such samples. This allows us to use statistical methods that rely on the normal distribution, such as constructing a confidence interval.\n",
        "\n",
        "4.  **Estimating the Population Mean:** We use the mean of our single sample (`mean_sales`) as the best point estimate for the true average daily sales of the entire population.\n",
        "\n",
        "5.  **Constructing the Confidence Interval:**\n",
        "    *   Because the population standard deviation is unknown and our sample size is relatively small (n < 30), we use the t-distribution instead of the standard normal (z) distribution. The t-distribution is more appropriate for smaller sample sizes and accounts for the extra variability introduced by estimating the population standard deviation from the sample.\n",
        "    *   We calculate the sample standard deviation (`std_dev_sales`) to estimate the population standard deviation.\n",
        "    *   We calculate the standard error of the mean, which is the standard deviation of the sampling distribution of the mean. This is calculated as `std_dev_sales / sqrt(n)`.\n",
        "    *   For a 95% confidence interval, we need to find the critical t-value (`t_score`) from the t-distribution with `n-1` degrees of freedom that leaves 2.5% in each tail (since 100% - 95% = 5%, and we split this equally between the two tails).\n",
        "    *   The margin of error is calculated by multiplying the critical t-value by the standard error (`margin_of_error = t_score * standard_error`). This margin represents the range around the sample mean within which we expect the true population mean to lie.\n",
        "    *   The 95% confidence interval is then calculated as `(mean_sales - margin_of_error, mean_sales + margin_of_error)`.\n",
        "\n",
        "6.  **Interpretation:** The resulting 95% confidence interval means that if we were to repeat the sampling process many times and construct a confidence interval for each sample, approximately 95% of those intervals would contain the true population mean of daily sales. We are 95% confident that the true average daily sales for the retail company falls within the calculated interval.\n",
        "\n",
        "In summary, the Central Limit Theorem allows us to assume that the distribution of sample means is approximately normal (or t-distributed for small samples with unknown population standard deviation), which is a necessary condition for using standard statistical methods to construct a confidence interval and estimate the population mean from a single sample."
      ]
    }
  ]
}